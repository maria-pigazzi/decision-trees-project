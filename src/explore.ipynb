{
    "cells": [
        {
            "cell_type": "markdown",
            "metadata": {},
            "source": [
                "# Explore here"
            ]
        },
        {
            "cell_type": "code",
            "execution_count": null,
            "metadata": {},
            "outputs": [],
            "source": [
                "# Your code here\n",
                "y.value_counts()\n",
                "\n",
                "X train, X test, y train, y test = train test split(X, y, test size=0.25)\n",
                "X train.shape[0]"
            ]
        },
        {
            "cell_type": "code",
            "execution_count": null,
            "metadata": {},
            "outputs": [],
            "source": [
                "from sklearn.tree import DecisionTreeClassifier # try to classify the rows in one of the target groups \n",
                "\n",
                "# initialize the model (hyperparameters)\n",
                "model = DecisionTreeClassifier()\n",
                "\n",
                "# 2 Fit / Train the model\n",
                "model.fit(X_train, y_train)"
            ]
        },
        {
            "cell_type": "code",
            "execution_count": null,
            "metadata": {},
            "outputs": [],
            "source": [
                "model.predic(X_test) # to make predictions, gives back an array"
            ]
        },
        {
            "cell_type": "code",
            "execution_count": null,
            "metadata": {},
            "outputs": [],
            "source": [
                "X test"
            ]
        },
        {
            "cell_type": "code",
            "execution_count": null,
            "metadata": {},
            "outputs": [],
            "source": [
                "y_pred = model.predict(X_test)"
            ]
        },
        {
            "cell_type": "code",
            "execution_count": null,
            "metadata": {},
            "outputs": [],
            "source": [
                "y_pred\n",
                "\n",
                "\n",
                "import matplotlib as plt\n",
                "from sklearn import tree\n",
                "\n",
                "fig = plt.figure(figsize=(20,20))\n",
                "tree.plot_tree(model, features_names= list(X_train.columns), class_name)  # feature names need to be a list (with the four features)"
            ]
        },
        {
            "cell_type": "code",
            "execution_count": 4,
            "metadata": {},
            "outputs": [
                {
                    "data": {
                        "text/html": [
                            "<div>\n",
                            "<style scoped>\n",
                            "    .dataframe tbody tr th:only-of-type {\n",
                            "        vertical-align: middle;\n",
                            "    }\n",
                            "\n",
                            "    .dataframe tbody tr th {\n",
                            "        vertical-align: top;\n",
                            "    }\n",
                            "\n",
                            "    .dataframe thead th {\n",
                            "        text-align: right;\n",
                            "    }\n",
                            "</style>\n",
                            "<table border=\"1\" class=\"dataframe\">\n",
                            "  <thead>\n",
                            "    <tr style=\"text-align: right;\">\n",
                            "      <th></th>\n",
                            "      <th>Pregnancies</th>\n",
                            "      <th>Glucose</th>\n",
                            "      <th>BloodPressure</th>\n",
                            "      <th>SkinThickness</th>\n",
                            "      <th>Insulin</th>\n",
                            "      <th>BMI</th>\n",
                            "      <th>DiabetesPedigreeFunction</th>\n",
                            "      <th>Age</th>\n",
                            "      <th>Outcome</th>\n",
                            "    </tr>\n",
                            "  </thead>\n",
                            "  <tbody>\n",
                            "    <tr>\n",
                            "      <th>0</th>\n",
                            "      <td>6</td>\n",
                            "      <td>148</td>\n",
                            "      <td>72</td>\n",
                            "      <td>35</td>\n",
                            "      <td>0</td>\n",
                            "      <td>33.6</td>\n",
                            "      <td>0.627</td>\n",
                            "      <td>50</td>\n",
                            "      <td>1</td>\n",
                            "    </tr>\n",
                            "    <tr>\n",
                            "      <th>1</th>\n",
                            "      <td>1</td>\n",
                            "      <td>85</td>\n",
                            "      <td>66</td>\n",
                            "      <td>29</td>\n",
                            "      <td>0</td>\n",
                            "      <td>26.6</td>\n",
                            "      <td>0.351</td>\n",
                            "      <td>31</td>\n",
                            "      <td>0</td>\n",
                            "    </tr>\n",
                            "    <tr>\n",
                            "      <th>2</th>\n",
                            "      <td>8</td>\n",
                            "      <td>183</td>\n",
                            "      <td>64</td>\n",
                            "      <td>0</td>\n",
                            "      <td>0</td>\n",
                            "      <td>23.3</td>\n",
                            "      <td>0.672</td>\n",
                            "      <td>32</td>\n",
                            "      <td>1</td>\n",
                            "    </tr>\n",
                            "    <tr>\n",
                            "      <th>3</th>\n",
                            "      <td>1</td>\n",
                            "      <td>89</td>\n",
                            "      <td>66</td>\n",
                            "      <td>23</td>\n",
                            "      <td>94</td>\n",
                            "      <td>28.1</td>\n",
                            "      <td>0.167</td>\n",
                            "      <td>21</td>\n",
                            "      <td>0</td>\n",
                            "    </tr>\n",
                            "    <tr>\n",
                            "      <th>4</th>\n",
                            "      <td>0</td>\n",
                            "      <td>137</td>\n",
                            "      <td>40</td>\n",
                            "      <td>35</td>\n",
                            "      <td>168</td>\n",
                            "      <td>43.1</td>\n",
                            "      <td>2.288</td>\n",
                            "      <td>33</td>\n",
                            "      <td>1</td>\n",
                            "    </tr>\n",
                            "  </tbody>\n",
                            "</table>\n",
                            "</div>"
                        ],
                        "text/plain": [
                            "   Pregnancies  Glucose  BloodPressure  SkinThickness  Insulin   BMI  \\\n",
                            "0            6      148             72             35        0  33.6   \n",
                            "1            1       85             66             29        0  26.6   \n",
                            "2            8      183             64              0        0  23.3   \n",
                            "3            1       89             66             23       94  28.1   \n",
                            "4            0      137             40             35      168  43.1   \n",
                            "\n",
                            "   DiabetesPedigreeFunction  Age  Outcome  \n",
                            "0                     0.627   50        1  \n",
                            "1                     0.351   31        0  \n",
                            "2                     0.672   32        1  \n",
                            "3                     0.167   21        0  \n",
                            "4                     2.288   33        1  "
                        ]
                    },
                    "execution_count": 4,
                    "metadata": {},
                    "output_type": "execute_result"
                }
            ],
            "source": [
                "# import numpy as np\n",
                "import pandas as pd\n",
                "# import matplotlib.pyplot as plt\n",
                "\n",
                "total_data = pd.read_csv(\"../data/raw/diabetes.csv\") # data/raw/diabetes.csv = relative path, it is easier for other people to find the file when working on the project\n",
                "\n",
                "total_data.head() # shows top 5 rows of dataset\n"
            ]
        },
        {
            "cell_type": "code",
            "execution_count": 5,
            "metadata": {},
            "outputs": [
                {
                    "name": "stdout",
                    "output_type": "stream",
                    "text": [
                        "<class 'pandas.core.frame.DataFrame'>\n",
                        "RangeIndex: 768 entries, 0 to 767\n",
                        "Data columns (total 9 columns):\n",
                        " #   Column                    Non-Null Count  Dtype  \n",
                        "---  ------                    --------------  -----  \n",
                        " 0   Pregnancies               768 non-null    int64  \n",
                        " 1   Glucose                   768 non-null    int64  \n",
                        " 2   BloodPressure             768 non-null    int64  \n",
                        " 3   SkinThickness             768 non-null    int64  \n",
                        " 4   Insulin                   768 non-null    int64  \n",
                        " 5   BMI                       768 non-null    float64\n",
                        " 6   DiabetesPedigreeFunction  768 non-null    float64\n",
                        " 7   Age                       768 non-null    int64  \n",
                        " 8   Outcome                   768 non-null    int64  \n",
                        "dtypes: float64(2), int64(7)\n",
                        "memory usage: 54.1 KB\n"
                    ]
                }
            ],
            "source": [
                "total_data.info() # shows if there are missing values and how many numerical and categorical values are there\n",
                "# 9 columns, 768 rows\n",
                "# there are no missing values (but some of them that are 0 do not make any sense such as skin thickness)\n",
                "# all data is numerical"
            ]
        },
        {
            "cell_type": "code",
            "execution_count": 12,
            "metadata": {},
            "outputs": [
                {
                    "data": {
                        "text/plain": [
                            "Pregnancies\n",
                            "1     135\n",
                            "0     111\n",
                            "2     103\n",
                            "3      75\n",
                            "4      68\n",
                            "5      57\n",
                            "6      50\n",
                            "7      45\n",
                            "8      38\n",
                            "9      28\n",
                            "10     24\n",
                            "11     11\n",
                            "13     10\n",
                            "12      9\n",
                            "14      2\n",
                            "15      1\n",
                            "17      1\n",
                            "Name: count, dtype: int64"
                        ]
                    },
                    "execution_count": 12,
                    "metadata": {},
                    "output_type": "execute_result"
                }
            ],
            "source": [
                "total_data.nunique() # values that are not repeated\n",
                "total_data['Pregnancies'].value_counts()"
            ]
        },
        {
            "cell_type": "code",
            "execution_count": 13,
            "metadata": {},
            "outputs": [
                {
                    "name": "stdout",
                    "output_type": "stream",
                    "text": [
                        "582\n",
                        "0\n"
                    ]
                }
            ],
            "source": [
                "print(total_data.duplicated('Insulin').sum()) # a lot of duplicated data in insulin column\n",
                "print(total_data.duplicated().sum()) # no duplicated rows"
            ]
        },
        {
            "cell_type": "code",
            "execution_count": null,
            "metadata": {},
            "outputs": [],
            "source": [
                "# value counts\n",
                "# look up how to define x and y"
            ]
        },
        {
            "cell_type": "code",
            "execution_count": null,
            "metadata": {},
            "outputs": [],
            "source": [
                "from sklearn.datasets import "
            ]
        }
    ],
    "metadata": {
        "kernelspec": {
            "display_name": "Python 3.8.13 64-bit ('3.8.13')",
            "language": "python",
            "name": "python3"
        },
        "language_info": {
            "codemirror_mode": {
                "name": "ipython",
                "version": 3
            },
            "file_extension": ".py",
            "mimetype": "text/x-python",
            "name": "python",
            "nbconvert_exporter": "python",
            "pygments_lexer": "ipython3",
            "version": "3.10.12"
        },
        "orig_nbformat": 4,
        "vscode": {
            "interpreter": {
                "hash": "110cc1dee26208153f2972f08a2ad52b6a56238dc66d48e87fb757ef2996db56"
            }
        }
    },
    "nbformat": 4,
    "nbformat_minor": 2
}
